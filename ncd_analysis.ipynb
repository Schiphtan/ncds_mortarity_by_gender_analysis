{
 "cells": [
  {
   "cell_type": "code",
   "execution_count": 1,
   "id": "cc4449a3",
   "metadata": {},
   "outputs": [],
   "source": [
    "# 📘 Capstone Project: Gender Differences in NCD Mortality Rates\n",
    "# Analysis Notebook (Google Colab Compatible)\n",
    "\n",
    "# ✅ 1. IMPORT LIBRARIES\n",
    "import pandas as pd\n",
    "import matplotlib.pyplot as plt\n",
    "import seaborn as sns\n",
    "from sklearn.preprocessing import StandardScaler\n",
    "from sklearn.cluster import KMeans\n",
    "from sklearn.metrics import silhouette_score\n",
    "\n",
    "sns.set(style=\"whitegrid\")\n"
   ]
  },
  {
   "cell_type": "code",
   "execution_count": null,
   "id": "f09571ce",
   "metadata": {},
   "outputs": [],
   "source": [
    "# ✅ 2. LOAD DATA\n",
    "df = pd.read_csv(\"ncd_gender_cleaned.csv\")  # Replace with your actual file path if needed\n",
    "df.head()"
   ]
  },
  {
   "cell_type": "code",
   "execution_count": null,
   "id": "55c653c5",
   "metadata": {},
   "outputs": [],
   "source": [
    "# ✅ 3. CLEANING & TRANSFORMATION\n",
    "# Fix Sex Codes if still in raw format\n",
    "df['Sex'] = df['Sex'].replace({'SEX_MLE': 'Male', 'SEX_FMLE': 'Female', 'SEX_BTSX': 'Both'})\n",
    "\n",
    "# Keep only necessary columns\n",
    "cols = ['Country', 'Year', 'Sex', 'NCD_Mortality_Rate']\n",
    "df = df[cols].dropna()\n",
    "df['Year'] = df['Year'].astype(int)\n",
    "df.head()"
   ]
  },
  {
   "cell_type": "code",
   "execution_count": null,
   "id": "1e12d41e",
   "metadata": {},
   "outputs": [],
   "source": [
    "# ✅ 4. EXPLORATORY DATA ANALYSIS\n",
    "# Descriptive Stats\n",
    "print(df.groupby(\"Sex\")[\"NCD_Mortality_Rate\"].describe())\n",
    "\n",
    "# NCD Trend by Sex Over Time\n",
    "plt.figure(figsize=(10,6))\n",
    "sns.lineplot(data=df, x=\"Year\", y=\"NCD_Mortality_Rate\", hue=\"Sex\")\n",
    "plt.title(\"Trend of NCD Mortality Rate by Sex\")\n",
    "plt.show()\n",
    "\n",
    "# Gender Difference by Region for Latest Year\n",
    "latest = df['Year'].max()\n",
    "df_latest = df[df['Year'] == latest]\n",
    "\n",
    "pivot = df_latest.pivot(index='Country', columns='Sex', values='NCD_Mortality_Rate').dropna()\n",
    "pivot['Difference'] = pivot['Male'] - pivot['Female']\n",
    "pivot_sorted = pivot.sort_values('Difference', ascending=False)\n",
    "\n",
    "# Bar Chart of Gender Difference\n",
    "plt.figure(figsize=(12,6))\n",
    "sns.barplot(x=pivot_sorted.index, y=pivot_sorted['Difference'])\n",
    "plt.xticks(rotation=45)\n",
    "plt.title(f\"Gender Gap in NCD Mortality ({latest})\")\n",
    "plt.ylabel(\"Male - Female\")\n",
    "plt.show()"
   ]
  },
  {
   "cell_type": "code",
   "execution_count": null,
   "id": "c399cd8c",
   "metadata": {},
   "outputs": [],
   "source": [
    "# ✅ 5. MODELING: KMeans Clustering\n",
    "# Prepare data for clustering\n",
    "pivot_kmeans = df.pivot_table(index='Country', columns='Sex', values='NCD_Mortality_Rate').dropna()\n",
    "scaler = StandardScaler()\n",
    "scaled = scaler.fit_transform(pivot_kmeans)\n",
    "\n",
    "kmeans = KMeans(n_clusters=3, random_state=42)\n",
    "pivot_kmeans['Cluster'] = kmeans.fit_predict(scaled)\n",
    "\n",
    "# Silhouette Score\n",
    "score = silhouette_score(scaled, pivot_kmeans['Cluster'])\n",
    "print(f\"Silhouette Score: {score:.2f}\")\n",
    "\n",
    "# Scatter Plot\n",
    "plt.figure(figsize=(8,6))\n",
    "sns.scatterplot(data=pivot_kmeans, x='Male', y='Female', hue='Cluster', palette='Set1')\n",
    "plt.title(\"Country Clustering by Gendered NCD Mortality\")\n",
    "plt.show()\n"
   ]
  },
  {
   "cell_type": "code",
   "execution_count": null,
   "id": "05921890",
   "metadata": {},
   "outputs": [],
   "source": [
    "# ✅ 6. EXPORT CLEANED DATA (Optional)\n",
    "df.to_csv(\"ncd_gender_cleaned.csv\", index=False)"
   ]
  },
  {
   "cell_type": "code",
   "execution_count": null,
   "id": "f819f65e",
   "metadata": {},
   "outputs": [],
   "source": [
    "# ✅ 7. CONCLUSION\n",
    "print(\"Analysis complete. Gender disparities in NCD mortality vary by country and cluster analysis reveals patterns.\")\n"
   ]
  }
 ],
 "metadata": {
  "kernelspec": {
   "display_name": ".venv",
   "language": "python",
   "name": "python3"
  },
  "language_info": {
   "codemirror_mode": {
    "name": "ipython",
    "version": 3
   },
   "file_extension": ".py",
   "mimetype": "text/x-python",
   "name": "python",
   "nbconvert_exporter": "python",
   "pygments_lexer": "ipython3",
   "version": "3.13.5"
  }
 },
 "nbformat": 4,
 "nbformat_minor": 5
}
